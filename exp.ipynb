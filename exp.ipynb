{
 "cells": [
  {
   "cell_type": "code",
   "execution_count": 1,
   "id": "b6462e43-65e2-47b6-8438-8c3e58e6dd29",
   "metadata": {},
   "outputs": [],
   "source": [
    "import torch\n",
    "import torch.nn as nn\n",
    "import torch.optim as optim\n",
    "import torchvision\n",
    "import torchvision.transforms as transforms\n",
    "from torchvision.io import read_image\n",
    "\n",
    "from torch.utils.data import Dataset\n",
    "from torchvision.transforms import ToTensor\n",
    "import matplotlib.pyplot as plt\n",
    "\n",
    "from sklearn.model_selection import train_test_split"
   ]
  },
  {
   "cell_type": "code",
   "execution_count": 2,
   "id": "e773b855-67a6-462e-9240-35dbe4d47f41",
   "metadata": {},
   "outputs": [
    {
     "data": {
      "text/plain": [
       "device(type='cuda', index=0)"
      ]
     },
     "execution_count": 2,
     "metadata": {},
     "output_type": "execute_result"
    }
   ],
   "source": [
    "# Check if GPU is available\n",
    "device = torch.device(\"cuda:0\" if torch.cuda.is_available() else \"cpu\")\n",
    "device"
   ]
  },
  {
   "cell_type": "code",
   "execution_count": 3,
   "id": "70f741de-57e8-47f4-ab58-9019bf3c4cf3",
   "metadata": {},
   "outputs": [],
   "source": [
    "imageLabels = {\n",
    "    'bedroom': 1,\n",
    "    'Coast': 2,\n",
    "    'Forest': 3,\n",
    "    'Highway': 4,\n",
    "    'industrial': 5,\n",
    "    'Insidecity': 6,\n",
    "    'kitchen': 7,\n",
    "    'livingroom': 8,\n",
    "    'Mountain': 9,\n",
    "    'Office': 10,\n",
    "    'OpenCountry': 11,\n",
    "    'store': 12,\n",
    "    'Street': 13,\n",
    "    'Suburb': 14,\n",
    "    'TallBuilding': 15,\n",
    "}"
   ]
  },
  {
   "cell_type": "code",
   "execution_count": 4,
   "id": "e904a61d-0074-4323-9e0b-97a993412f3d",
   "metadata": {},
   "outputs": [],
   "source": [
    "import cv2\n",
    "import os\n",
    "import numpy as np\n",
    "import pandas as pd\n",
    "import shutil\n",
    "from torch.utils.data import DataLoader\n",
    "from tqdm import tqdm"
   ]
  },
  {
   "cell_type": "code",
   "execution_count": 5,
   "id": "a0626368-bf5e-4cfd-814b-ecfc78e35f55",
   "metadata": {},
   "outputs": [],
   "source": [
    "def rotatedImages(img):\n",
    "    rot90 = np.rot90(img)\n",
    "    rot180 = np.rot90(rot90)\n",
    "    rot270 = np.rot90(rot180)\n",
    "    return img, rot90, rot180, rot270\n",
    "\n",
    "def flippedImages(img):\n",
    "    hFlip = img[:, ::-1]\n",
    "    vFlip = img[::-1, :]\n",
    "    return img, hFlip, vFlip\n",
    "\n",
    "def blurredImages(img):\n",
    "    bImage = cv2.GaussianBlur(img, (5,5), 0)\n",
    "    return img, bImage"
   ]
  },
  {
   "cell_type": "code",
   "execution_count": 6,
   "id": "d0f4b789",
   "metadata": {},
   "outputs": [],
   "source": [
    "dataFolder = './data'"
   ]
  },
  {
   "cell_type": "code",
   "execution_count": 7,
   "id": "6295372f-0d0b-49df-85db-14f5a2e0eb74",
   "metadata": {},
   "outputs": [],
   "source": [
    "largestHeight = 0\n",
    "largestWidth = 0\n",
    "if not os.path.exists(dataFolder):\n",
    "    os.makedirs(dataFolder)\n",
    "\n",
    "imageNum = 0\n",
    "def getImageFileName(num):\n",
    "    return 'image_{}.jpg'.format(num)\n",
    "\n",
    "allImages = []\n",
    "allLabels = []\n",
    "\n",
    "for cat, label in imageLabels.items():\n",
    "    root = './train'\n",
    "    catFolder = os.path.join(root, cat)\n",
    "    images = os.listdir(catFolder)\n",
    "    for image in images:\n",
    "        img = np.array(cv2.imread(os.path.join(catFolder, image), -1))\n",
    "        augRotImages = rotatedImages(img)\n",
    "        for rotImage in augRotImages:\n",
    "            augFlipImages = flippedImages(rotImage)\n",
    "            for augIm in augFlipImages:\n",
    "                blurImages = blurredImages(augIm)\n",
    "                for im in blurImages:\n",
    "                    imageName = getImageFileName(imageNum)\n",
    "                    imageFilePath = os.path.join(dataFolder, imageName)\n",
    "                    imageNum +=1 \n",
    "                    cv2.imwrite(imageFilePath, im)\n",
    "                    allImages.append(imageName)\n",
    "                    allLabels.append(label)\n",
    "\n",
    "labels = pd.DataFrame({\n",
    "    'imageFileName': allImages,\n",
    "    'imageLabel': allLabels\n",
    "})\n"
   ]
  },
  {
   "cell_type": "code",
   "execution_count": 8,
   "id": "a3dbe87b-ed9e-46ec-8626-b404d4ce219a",
   "metadata": {},
   "outputs": [],
   "source": [
    "# split the testing data\n",
    "imageRem, imageTest, labelRem, labelTest = train_test_split(allImages, allLabels, test_size=0.2, stratify=allLabels)"
   ]
  },
  {
   "cell_type": "code",
   "execution_count": 9,
   "id": "d58f22a0",
   "metadata": {},
   "outputs": [],
   "source": [
    "# split the validation data\n",
    "imageTrain, imageValid, labelTrain, labelValid = train_test_split(imageRem, labelRem, test_size=0.3, stratify=labelRem)"
   ]
  },
  {
   "cell_type": "code",
   "execution_count": 5,
   "id": "0ff14af7",
   "metadata": {},
   "outputs": [],
   "source": [
    "trainDestFolder = './data/train'\n",
    "testDestFolder = './data/test'\n",
    "validDestFolder = './data/valid'"
   ]
  },
  {
   "cell_type": "code",
   "execution_count": 11,
   "id": "87903a17-a235-4455-a107-c982eebfebff",
   "metadata": {},
   "outputs": [],
   "source": [
    "# write the training data\n",
    "if not os.path.exists(trainDestFolder):\n",
    "    os.makedirs(trainDestFolder)\n",
    "for trainName in imageTrain:\n",
    "    # Get the full path of the source file\n",
    "    source_file = os.path.join(dataFolder, trainName)\n",
    "    # Get the full path of the destination file\n",
    "    destination_file = os.path.join(trainDestFolder, trainName)\n",
    "    # Move the file\n",
    "    shutil.copy(source_file, destination_file)"
   ]
  },
  {
   "cell_type": "code",
   "execution_count": 12,
   "id": "647070d6-0058-4a4c-9c29-031d912e9439",
   "metadata": {},
   "outputs": [],
   "source": [
    "# write the test data\n",
    "if not os.path.exists(testDestFolder):\n",
    "    os.makedirs(testDestFolder)\n",
    "for testName in imageTest:\n",
    "    # Get the full path of the source file\n",
    "    source_file = os.path.join(dataFolder, testName)\n",
    "    # Get the full path of the destination file\n",
    "    destination_file = os.path.join(testDestFolder, testName)\n",
    "    # Move the file\n",
    "    shutil.copy(source_file, destination_file)"
   ]
  },
  {
   "cell_type": "code",
   "execution_count": 13,
   "id": "9b6fa989",
   "metadata": {},
   "outputs": [],
   "source": [
    "# write the validation data\n",
    "if not os.path.exists(validDestFolder):\n",
    "    os.makedirs(validDestFolder)\n",
    "for testName in imageValid:\n",
    "    # Get the full path of the source file\n",
    "    source_file = os.path.join(dataFolder, testName)\n",
    "    # Get the full path of the destination file\n",
    "    destination_file = os.path.join(validDestFolder, testName)\n",
    "    # Move the file\n",
    "    shutil.copy(source_file, destination_file)"
   ]
  },
  {
   "cell_type": "code",
   "execution_count": 14,
   "id": "8b5117a3-3013-4ecc-98a6-e4948853c368",
   "metadata": {},
   "outputs": [],
   "source": [
    "trainLabels = pd.DataFrame({\n",
    "    'imageFileName': imageTrain,\n",
    "    'imageLabel': labelTrain\n",
    "})\n",
    "\n",
    "testLabels = pd.DataFrame({\n",
    "    'imageFileName': imageTest,\n",
    "    'imageLabel': labelTest\n",
    "})\n",
    "\n",
    "validLabels = pd.DataFrame({\n",
    "    'imageFileName': imageValid,\n",
    "    'imageLabel': labelValid\n",
    "})\n",
    "\n",
    "trainLabels.to_csv(os.path.join(dataFolder, 'trainLabels.csv'), index=False)\n",
    "testLabels.to_csv(os.path.join(dataFolder, 'testLabels.csv'), index=False)\n",
    "validLabels.to_csv(os.path.join(dataFolder, 'validLabels.csv'), index=False)"
   ]
  },
  {
   "cell_type": "code",
   "execution_count": 7,
   "id": "4a7a4bc4-8c5b-45b0-9588-125ee25ebd1c",
   "metadata": {},
   "outputs": [],
   "source": [
    "class ImageDataset(Dataset):\n",
    "    def __init__(self, labelsFile, imageDirectory, transform=None):\n",
    "        self.imgLabels = pd.read_csv(labelsFile)\n",
    "        self.imgDir = imageDirectory\n",
    "        self.transform = transform\n",
    "\n",
    "    def __len__(self):\n",
    "        return len(self.imgLabels)\n",
    "\n",
    "    def __getitem__(self, idx):\n",
    "        imgPath = os.path.join(self.imgDir, self.imgLabels.iloc[idx, 0])\n",
    "        image = read_image(imgPath)\n",
    "        label = self.imgLabels.iloc[idx, 1]\n",
    "        if self.transform:\n",
    "            image = self.transform(image)\n",
    "        return image, label"
   ]
  },
  {
   "cell_type": "code",
   "execution_count": 8,
   "id": "8dc3a60e-5bad-46bc-8316-ca623db17003",
   "metadata": {},
   "outputs": [],
   "source": [
    "# Define transformations for your dataset\n",
    "transform = transforms.Compose([\n",
    "    transforms.ToPILImage(),\n",
    "    transforms.Resize(size = (320,320)),\n",
    "    transforms.ToTensor()\n",
    "])\n",
    "trainingDataset = ImageDataset(labelsFile = os.path.join(dataFolder, 'trainLabels.csv'), imageDirectory = trainDestFolder, transform = transform)\n",
    "validDataset = ImageDataset(labelsFile = os.path.join(dataFolder, 'validLabels.csv'), imageDirectory = validDestFolder, transform = transform)\n",
    "testDataset = ImageDataset(labelsFile = os.path.join(dataFolder, 'testLabels.csv'), imageDirectory = testDestFolder, transform = transform)\n"
   ]
  },
  {
   "cell_type": "code",
   "execution_count": 22,
   "id": "7887a249-677d-41ed-be70-e7242d3b2b82",
   "metadata": {},
   "outputs": [],
   "source": [
    "trainDataloader = DataLoader(trainingDataset, batch_size=16, shuffle=True)\n",
    "testDataloader = DataLoader(testDataset, batch_size=16, shuffle=False)\n",
    "validDataloader = DataLoader(validDataset, batch_size=16, shuffle=False)"
   ]
  },
  {
   "cell_type": "code",
   "execution_count": 28,
   "id": "a63538ed-2c6a-4b1a-839c-1c84e44a8746",
   "metadata": {},
   "outputs": [],
   "source": [
    "import torch\n",
    "import torch.nn as nn\n",
    "import torch.optim as optim\n",
    "import torchvision\n",
    "import torchvision.transforms as transforms\n",
    "from tqdm import tqdm\n",
    "\n",
    "# Define your CNN architecture\n",
    "class SceneNet(nn.Module):\n",
    "    def __init__(self, num_classes=15):\n",
    "        super(SceneNet, self).__init__()\n",
    "        self.conv1 = nn.Conv2d(1, 32, kernel_size=3, padding=1) # image dim 320x320\n",
    "        self.bn1 = nn.BatchNorm2d(32)\n",
    "        self.pool1 = nn.MaxPool2d(3,2) # dim 159x159\n",
    "\n",
    "        self.conv2 = nn.Conv2d(32, 64, kernel_size=3, padding=1) # dim 158x158\n",
    "        self.bn2 = nn.BatchNorm2d(64)\n",
    "        self.pool2 = nn.MaxPool2d(5,2) # dim 78x78\n",
    "\n",
    "        # self.conv3 = nn.Conv2d(64, 128, kernel_size=3, padding=1) # dim 158x158\n",
    "        # self.pool3 = nn.MaxPool2d(3,2) # dim 76x76\n",
    "\n",
    "        self.fc1 = nn.Linear(64*78*78, 128)\n",
    "        self.fc2 = nn.Linear(128, num_classes)\n",
    "\n",
    "    def forward(self, x):\n",
    "        x = self.pool1(torch.relu(self.conv1(x)))\n",
    "        x = self.pool2(torch.relu(self.conv2(x)))\n",
    "        x = torch.flatten(x, 1)\n",
    "        x = torch.relu(self.fc1(x))\n",
    "        x = self.fc2(x)\n",
    "        return x\n",
    "\n"
   ]
  },
  {
   "cell_type": "code",
   "execution_count": 33,
   "id": "fb1c7a28-e902-4e64-bcdf-ac1d616682ea",
   "metadata": {},
   "outputs": [],
   "source": [
    "# Initialize your CNN\n",
    "model = SceneNet()\n",
    "\n",
    "# Use GPU if available\n",
    "# device = torch.device(\"cuda:0\" if torch.cuda.is_available() else \"cpu\")\n",
    "model.to(device)\n",
    "\n",
    "# Define loss function and optimizer\n",
    "criterion = nn.CrossEntropyLoss()\n",
    "optimizer = optim.Adam(model.parameters(), lr=0.00001)\n",
    "\n",
    "\n"
   ]
  },
  {
   "cell_type": "code",
   "execution_count": 34,
   "id": "c8eafa79-3682-434a-a3e5-14217f421b3b",
   "metadata": {},
   "outputs": [
    {
     "name": "stderr",
     "output_type": "stream",
     "text": [
      "Epoch [1/10], train loss: 2.587: 100%|██████████| 1260/1260 [05:39<00:00,  3.72it/s]\n",
      "Epoch [2/10], train loss: 2.388: 100%|██████████| 1260/1260 [05:29<00:00,  3.82it/s]\n",
      "Epoch [3/10], train loss: 2.243: 100%|██████████| 1260/1260 [05:30<00:00,  3.81it/s]\n",
      "Epoch [4/10], train loss: 2.172:  16%|█▋        | 205/1260 [00:55<04:46,  3.68it/s]\n"
     ]
    },
    {
     "ename": "KeyboardInterrupt",
     "evalue": "",
     "output_type": "error",
     "traceback": [
      "\u001b[1;31m---------------------------------------------------------------------------\u001b[0m",
      "\u001b[1;31mKeyboardInterrupt\u001b[0m                         Traceback (most recent call last)",
      "Cell \u001b[1;32mIn[34], line 7\u001b[0m\n\u001b[0;32m      5\u001b[0m model\u001b[38;5;241m.\u001b[39mtrain()\n\u001b[0;32m      6\u001b[0m trainProgress \u001b[38;5;241m=\u001b[39m  tqdm(\u001b[38;5;28menumerate\u001b[39m(trainDataloader), total\u001b[38;5;241m=\u001b[39m\u001b[38;5;28mlen\u001b[39m(trainDataloader))\n\u001b[1;32m----> 7\u001b[0m \u001b[43m\u001b[49m\u001b[38;5;28;43;01mfor\u001b[39;49;00m\u001b[43m \u001b[49m\u001b[43mi\u001b[49m\u001b[43m,\u001b[49m\u001b[43m \u001b[49m\u001b[43mdata\u001b[49m\u001b[43m \u001b[49m\u001b[38;5;129;43;01min\u001b[39;49;00m\u001b[43m \u001b[49m\u001b[43mtrainProgress\u001b[49m\u001b[43m:\u001b[49m\n\u001b[0;32m      8\u001b[0m \u001b[43m    \u001b[49m\u001b[43minputs\u001b[49m\u001b[43m,\u001b[49m\u001b[43m \u001b[49m\u001b[43mlabels\u001b[49m\u001b[43m \u001b[49m\u001b[38;5;241;43m=\u001b[39;49m\u001b[43m \u001b[49m\u001b[43mdata\u001b[49m\u001b[43m[\u001b[49m\u001b[38;5;241;43m0\u001b[39;49m\u001b[43m]\u001b[49m\u001b[38;5;241;43m.\u001b[39;49m\u001b[43mto\u001b[49m\u001b[43m(\u001b[49m\u001b[43mdevice\u001b[49m\u001b[43m)\u001b[49m\u001b[43m,\u001b[49m\u001b[43m \u001b[49m\u001b[43mdata\u001b[49m\u001b[43m[\u001b[49m\u001b[38;5;241;43m1\u001b[39;49m\u001b[43m]\u001b[49m\u001b[38;5;241;43m.\u001b[39;49m\u001b[43mto\u001b[49m\u001b[43m(\u001b[49m\u001b[43mdevice\u001b[49m\u001b[43m)\u001b[49m\n\u001b[0;32m      9\u001b[0m \u001b[43m    \u001b[49m\u001b[43moptimizer\u001b[49m\u001b[38;5;241;43m.\u001b[39;49m\u001b[43mzero_grad\u001b[49m\u001b[43m(\u001b[49m\u001b[43m)\u001b[49m\n",
      "File \u001b[1;32md:\\Dev-Softwares\\Anaconda-3\\anaconda3\\envs\\DSA5203P311\\Lib\\site-packages\\tqdm\\std.py:1181\u001b[0m, in \u001b[0;36mtqdm.__iter__\u001b[1;34m(self)\u001b[0m\n\u001b[0;32m   1178\u001b[0m time \u001b[38;5;241m=\u001b[39m \u001b[38;5;28mself\u001b[39m\u001b[38;5;241m.\u001b[39m_time\n\u001b[0;32m   1180\u001b[0m \u001b[38;5;28;01mtry\u001b[39;00m:\n\u001b[1;32m-> 1181\u001b[0m \u001b[43m    \u001b[49m\u001b[38;5;28;43;01mfor\u001b[39;49;00m\u001b[43m \u001b[49m\u001b[43mobj\u001b[49m\u001b[43m \u001b[49m\u001b[38;5;129;43;01min\u001b[39;49;00m\u001b[43m \u001b[49m\u001b[43miterable\u001b[49m\u001b[43m:\u001b[49m\n\u001b[0;32m   1182\u001b[0m \u001b[43m        \u001b[49m\u001b[38;5;28;43;01myield\u001b[39;49;00m\u001b[43m \u001b[49m\u001b[43mobj\u001b[49m\n\u001b[0;32m   1183\u001b[0m \u001b[43m        \u001b[49m\u001b[38;5;66;43;03m# Update and possibly print the progressbar.\u001b[39;49;00m\n\u001b[0;32m   1184\u001b[0m \u001b[43m        \u001b[49m\u001b[38;5;66;43;03m# Note: does not call self.update(1) for speed optimisation.\u001b[39;49;00m\n",
      "File \u001b[1;32md:\\Dev-Softwares\\Anaconda-3\\anaconda3\\envs\\DSA5203P311\\Lib\\site-packages\\torch\\utils\\data\\dataloader.py:631\u001b[0m, in \u001b[0;36m_BaseDataLoaderIter.__next__\u001b[1;34m(self)\u001b[0m\n\u001b[0;32m    628\u001b[0m \u001b[38;5;28;01mif\u001b[39;00m \u001b[38;5;28mself\u001b[39m\u001b[38;5;241m.\u001b[39m_sampler_iter \u001b[38;5;129;01mis\u001b[39;00m \u001b[38;5;28;01mNone\u001b[39;00m:\n\u001b[0;32m    629\u001b[0m     \u001b[38;5;66;03m# TODO(https://github.com/pytorch/pytorch/issues/76750)\u001b[39;00m\n\u001b[0;32m    630\u001b[0m     \u001b[38;5;28mself\u001b[39m\u001b[38;5;241m.\u001b[39m_reset()  \u001b[38;5;66;03m# type: ignore[call-arg]\u001b[39;00m\n\u001b[1;32m--> 631\u001b[0m data \u001b[38;5;241m=\u001b[39m \u001b[38;5;28;43mself\u001b[39;49m\u001b[38;5;241;43m.\u001b[39;49m\u001b[43m_next_data\u001b[49m\u001b[43m(\u001b[49m\u001b[43m)\u001b[49m\n\u001b[0;32m    632\u001b[0m \u001b[38;5;28mself\u001b[39m\u001b[38;5;241m.\u001b[39m_num_yielded \u001b[38;5;241m+\u001b[39m\u001b[38;5;241m=\u001b[39m \u001b[38;5;241m1\u001b[39m\n\u001b[0;32m    633\u001b[0m \u001b[38;5;28;01mif\u001b[39;00m \u001b[38;5;28mself\u001b[39m\u001b[38;5;241m.\u001b[39m_dataset_kind \u001b[38;5;241m==\u001b[39m _DatasetKind\u001b[38;5;241m.\u001b[39mIterable \u001b[38;5;129;01mand\u001b[39;00m \\\n\u001b[0;32m    634\u001b[0m         \u001b[38;5;28mself\u001b[39m\u001b[38;5;241m.\u001b[39m_IterableDataset_len_called \u001b[38;5;129;01mis\u001b[39;00m \u001b[38;5;129;01mnot\u001b[39;00m \u001b[38;5;28;01mNone\u001b[39;00m \u001b[38;5;129;01mand\u001b[39;00m \\\n\u001b[0;32m    635\u001b[0m         \u001b[38;5;28mself\u001b[39m\u001b[38;5;241m.\u001b[39m_num_yielded \u001b[38;5;241m>\u001b[39m \u001b[38;5;28mself\u001b[39m\u001b[38;5;241m.\u001b[39m_IterableDataset_len_called:\n",
      "File \u001b[1;32md:\\Dev-Softwares\\Anaconda-3\\anaconda3\\envs\\DSA5203P311\\Lib\\site-packages\\torch\\utils\\data\\dataloader.py:675\u001b[0m, in \u001b[0;36m_SingleProcessDataLoaderIter._next_data\u001b[1;34m(self)\u001b[0m\n\u001b[0;32m    673\u001b[0m \u001b[38;5;28;01mdef\u001b[39;00m \u001b[38;5;21m_next_data\u001b[39m(\u001b[38;5;28mself\u001b[39m):\n\u001b[0;32m    674\u001b[0m     index \u001b[38;5;241m=\u001b[39m \u001b[38;5;28mself\u001b[39m\u001b[38;5;241m.\u001b[39m_next_index()  \u001b[38;5;66;03m# may raise StopIteration\u001b[39;00m\n\u001b[1;32m--> 675\u001b[0m     data \u001b[38;5;241m=\u001b[39m \u001b[38;5;28;43mself\u001b[39;49m\u001b[38;5;241;43m.\u001b[39;49m\u001b[43m_dataset_fetcher\u001b[49m\u001b[38;5;241;43m.\u001b[39;49m\u001b[43mfetch\u001b[49m\u001b[43m(\u001b[49m\u001b[43mindex\u001b[49m\u001b[43m)\u001b[49m  \u001b[38;5;66;03m# may raise StopIteration\u001b[39;00m\n\u001b[0;32m    676\u001b[0m     \u001b[38;5;28;01mif\u001b[39;00m \u001b[38;5;28mself\u001b[39m\u001b[38;5;241m.\u001b[39m_pin_memory:\n\u001b[0;32m    677\u001b[0m         data \u001b[38;5;241m=\u001b[39m _utils\u001b[38;5;241m.\u001b[39mpin_memory\u001b[38;5;241m.\u001b[39mpin_memory(data, \u001b[38;5;28mself\u001b[39m\u001b[38;5;241m.\u001b[39m_pin_memory_device)\n",
      "File \u001b[1;32md:\\Dev-Softwares\\Anaconda-3\\anaconda3\\envs\\DSA5203P311\\Lib\\site-packages\\torch\\utils\\data\\_utils\\fetch.py:51\u001b[0m, in \u001b[0;36m_MapDatasetFetcher.fetch\u001b[1;34m(self, possibly_batched_index)\u001b[0m\n\u001b[0;32m     49\u001b[0m         data \u001b[38;5;241m=\u001b[39m \u001b[38;5;28mself\u001b[39m\u001b[38;5;241m.\u001b[39mdataset\u001b[38;5;241m.\u001b[39m__getitems__(possibly_batched_index)\n\u001b[0;32m     50\u001b[0m     \u001b[38;5;28;01melse\u001b[39;00m:\n\u001b[1;32m---> 51\u001b[0m         data \u001b[38;5;241m=\u001b[39m \u001b[43m[\u001b[49m\u001b[38;5;28;43mself\u001b[39;49m\u001b[38;5;241;43m.\u001b[39;49m\u001b[43mdataset\u001b[49m\u001b[43m[\u001b[49m\u001b[43midx\u001b[49m\u001b[43m]\u001b[49m\u001b[43m \u001b[49m\u001b[38;5;28;43;01mfor\u001b[39;49;00m\u001b[43m \u001b[49m\u001b[43midx\u001b[49m\u001b[43m \u001b[49m\u001b[38;5;129;43;01min\u001b[39;49;00m\u001b[43m \u001b[49m\u001b[43mpossibly_batched_index\u001b[49m\u001b[43m]\u001b[49m\n\u001b[0;32m     52\u001b[0m \u001b[38;5;28;01melse\u001b[39;00m:\n\u001b[0;32m     53\u001b[0m     data \u001b[38;5;241m=\u001b[39m \u001b[38;5;28mself\u001b[39m\u001b[38;5;241m.\u001b[39mdataset[possibly_batched_index]\n",
      "File \u001b[1;32md:\\Dev-Softwares\\Anaconda-3\\anaconda3\\envs\\DSA5203P311\\Lib\\site-packages\\torch\\utils\\data\\_utils\\fetch.py:51\u001b[0m, in \u001b[0;36m<listcomp>\u001b[1;34m(.0)\u001b[0m\n\u001b[0;32m     49\u001b[0m         data \u001b[38;5;241m=\u001b[39m \u001b[38;5;28mself\u001b[39m\u001b[38;5;241m.\u001b[39mdataset\u001b[38;5;241m.\u001b[39m__getitems__(possibly_batched_index)\n\u001b[0;32m     50\u001b[0m     \u001b[38;5;28;01melse\u001b[39;00m:\n\u001b[1;32m---> 51\u001b[0m         data \u001b[38;5;241m=\u001b[39m [\u001b[38;5;28;43mself\u001b[39;49m\u001b[38;5;241;43m.\u001b[39;49m\u001b[43mdataset\u001b[49m\u001b[43m[\u001b[49m\u001b[43midx\u001b[49m\u001b[43m]\u001b[49m \u001b[38;5;28;01mfor\u001b[39;00m idx \u001b[38;5;129;01min\u001b[39;00m possibly_batched_index]\n\u001b[0;32m     52\u001b[0m \u001b[38;5;28;01melse\u001b[39;00m:\n\u001b[0;32m     53\u001b[0m     data \u001b[38;5;241m=\u001b[39m \u001b[38;5;28mself\u001b[39m\u001b[38;5;241m.\u001b[39mdataset[possibly_batched_index]\n",
      "Cell \u001b[1;32mIn[7], line 12\u001b[0m, in \u001b[0;36mImageDataset.__getitem__\u001b[1;34m(self, idx)\u001b[0m\n\u001b[0;32m     10\u001b[0m \u001b[38;5;28;01mdef\u001b[39;00m \u001b[38;5;21m__getitem__\u001b[39m(\u001b[38;5;28mself\u001b[39m, idx):\n\u001b[0;32m     11\u001b[0m     imgPath \u001b[38;5;241m=\u001b[39m os\u001b[38;5;241m.\u001b[39mpath\u001b[38;5;241m.\u001b[39mjoin(\u001b[38;5;28mself\u001b[39m\u001b[38;5;241m.\u001b[39mimgDir, \u001b[38;5;28mself\u001b[39m\u001b[38;5;241m.\u001b[39mimgLabels\u001b[38;5;241m.\u001b[39miloc[idx, \u001b[38;5;241m0\u001b[39m])\n\u001b[1;32m---> 12\u001b[0m     image \u001b[38;5;241m=\u001b[39m \u001b[43mread_image\u001b[49m\u001b[43m(\u001b[49m\u001b[43mimgPath\u001b[49m\u001b[43m)\u001b[49m\n\u001b[0;32m     13\u001b[0m     label \u001b[38;5;241m=\u001b[39m \u001b[38;5;28mself\u001b[39m\u001b[38;5;241m.\u001b[39mimgLabels\u001b[38;5;241m.\u001b[39miloc[idx, \u001b[38;5;241m1\u001b[39m]\n\u001b[0;32m     14\u001b[0m     \u001b[38;5;28;01mif\u001b[39;00m \u001b[38;5;28mself\u001b[39m\u001b[38;5;241m.\u001b[39mtransform:\n",
      "File \u001b[1;32md:\\Dev-Softwares\\Anaconda-3\\anaconda3\\envs\\DSA5203P311\\Lib\\site-packages\\torchvision\\io\\image.py:258\u001b[0m, in \u001b[0;36mread_image\u001b[1;34m(path, mode)\u001b[0m\n\u001b[0;32m    256\u001b[0m \u001b[38;5;28;01mif\u001b[39;00m \u001b[38;5;129;01mnot\u001b[39;00m torch\u001b[38;5;241m.\u001b[39mjit\u001b[38;5;241m.\u001b[39mis_scripting() \u001b[38;5;129;01mand\u001b[39;00m \u001b[38;5;129;01mnot\u001b[39;00m torch\u001b[38;5;241m.\u001b[39mjit\u001b[38;5;241m.\u001b[39mis_tracing():\n\u001b[0;32m    257\u001b[0m     _log_api_usage_once(read_image)\n\u001b[1;32m--> 258\u001b[0m data \u001b[38;5;241m=\u001b[39m \u001b[43mread_file\u001b[49m\u001b[43m(\u001b[49m\u001b[43mpath\u001b[49m\u001b[43m)\u001b[49m\n\u001b[0;32m    259\u001b[0m \u001b[38;5;28;01mreturn\u001b[39;00m decode_image(data, mode)\n",
      "File \u001b[1;32md:\\Dev-Softwares\\Anaconda-3\\anaconda3\\envs\\DSA5203P311\\Lib\\site-packages\\torchvision\\io\\image.py:52\u001b[0m, in \u001b[0;36mread_file\u001b[1;34m(path)\u001b[0m\n\u001b[0;32m     50\u001b[0m \u001b[38;5;28;01mif\u001b[39;00m \u001b[38;5;129;01mnot\u001b[39;00m torch\u001b[38;5;241m.\u001b[39mjit\u001b[38;5;241m.\u001b[39mis_scripting() \u001b[38;5;129;01mand\u001b[39;00m \u001b[38;5;129;01mnot\u001b[39;00m torch\u001b[38;5;241m.\u001b[39mjit\u001b[38;5;241m.\u001b[39mis_tracing():\n\u001b[0;32m     51\u001b[0m     _log_api_usage_once(read_file)\n\u001b[1;32m---> 52\u001b[0m data \u001b[38;5;241m=\u001b[39m \u001b[43mtorch\u001b[49m\u001b[38;5;241;43m.\u001b[39;49m\u001b[43mops\u001b[49m\u001b[38;5;241;43m.\u001b[39;49m\u001b[43mimage\u001b[49m\u001b[38;5;241;43m.\u001b[39;49m\u001b[43mread_file\u001b[49m\u001b[43m(\u001b[49m\u001b[43mpath\u001b[49m\u001b[43m)\u001b[49m\n\u001b[0;32m     53\u001b[0m \u001b[38;5;28;01mreturn\u001b[39;00m data\n",
      "File \u001b[1;32md:\\Dev-Softwares\\Anaconda-3\\anaconda3\\envs\\DSA5203P311\\Lib\\site-packages\\torch\\_ops.py:755\u001b[0m, in \u001b[0;36mOpOverloadPacket.__call__\u001b[1;34m(self, *args, **kwargs)\u001b[0m\n\u001b[0;32m    750\u001b[0m \u001b[38;5;28;01mdef\u001b[39;00m \u001b[38;5;21m__call__\u001b[39m(\u001b[38;5;28mself\u001b[39m, \u001b[38;5;241m*\u001b[39margs, \u001b[38;5;241m*\u001b[39m\u001b[38;5;241m*\u001b[39mkwargs):\n\u001b[0;32m    751\u001b[0m     \u001b[38;5;66;03m# overloading __call__ to ensure torch.ops.foo.bar()\u001b[39;00m\n\u001b[0;32m    752\u001b[0m     \u001b[38;5;66;03m# is still callable from JIT\u001b[39;00m\n\u001b[0;32m    753\u001b[0m     \u001b[38;5;66;03m# We save the function ptr as the `op` attribute on\u001b[39;00m\n\u001b[0;32m    754\u001b[0m     \u001b[38;5;66;03m# OpOverloadPacket to access it here.\u001b[39;00m\n\u001b[1;32m--> 755\u001b[0m     \u001b[38;5;28;01mreturn\u001b[39;00m \u001b[38;5;28;43mself\u001b[39;49m\u001b[38;5;241;43m.\u001b[39;49m\u001b[43m_op\u001b[49m\u001b[43m(\u001b[49m\u001b[38;5;241;43m*\u001b[39;49m\u001b[43margs\u001b[49m\u001b[43m,\u001b[49m\u001b[43m \u001b[49m\u001b[38;5;241;43m*\u001b[39;49m\u001b[38;5;241;43m*\u001b[39;49m\u001b[43m(\u001b[49m\u001b[43mkwargs\u001b[49m\u001b[43m \u001b[49m\u001b[38;5;129;43;01mor\u001b[39;49;00m\u001b[43m \u001b[49m\u001b[43m{\u001b[49m\u001b[43m}\u001b[49m\u001b[43m)\u001b[49m\u001b[43m)\u001b[49m\n",
      "\u001b[1;31mKeyboardInterrupt\u001b[0m: "
     ]
    }
   ],
   "source": [
    "# Train the model\n",
    "num_epochs = 10\n",
    "for epoch in range(num_epochs):\n",
    "    running_loss = 0.0\n",
    "    model.train()\n",
    "    trainProgress =  tqdm(enumerate(trainDataloader), total=len(trainDataloader))\n",
    "    for i, data in trainProgress:\n",
    "        inputs, labels = data[0].to(device), data[1].to(device)\n",
    "        optimizer.zero_grad()\n",
    "        outputs = model(inputs)\n",
    "        loss = criterion(outputs, labels-1)\n",
    "        loss.backward()\n",
    "        optimizer.step()\n",
    "        running_loss += loss.item()\n",
    "        trainProgress.set_description('Epoch [{}/{}], train loss: {:.3f}'.format(\n",
    "            epoch+1,\n",
    "            num_epochs,\n",
    "            running_loss/(i+1)\n",
    "        ))\n",
    "    \n",
    "    # # Evaluate on validation data\n",
    "    # model.eval()  # Set the model to evaluation mode\n",
    "    # val_loss = 0.0\n",
    "    # correct = 0\n",
    "    # total = 0\n",
    "    \n",
    "    # with torch.no_grad():\n",
    "    #     validProgress = tqdm(enumerate(validDataloader), total=len(validDataloader))\n",
    "    #     for i, data in validProgress:\n",
    "    #         images, labels = data[0].to(device), data[1].to(device)\n",
    "    #         outputs = model(images)\n",
    "    #         loss = criterion(outputs, labels)\n",
    "    #         val_loss += loss.item()\n",
    "    #         _, predicted = torch.max(outputs, 1)\n",
    "    #         total += labels.size(0)\n",
    "    #         correct += (predicted == labels).sum().item()\n",
    "    #         trainProgress.set_description('valid loss: {:.3f}, valid accuracy: {:.3f}'.format(\n",
    "    #             running_loss/(i+1),\n",
    "    #             correct/total\n",
    "    #         ))\n",
    "\n",
    "print('Finished Training')\n",
    "\n"
   ]
  },
  {
   "cell_type": "code",
   "execution_count": 32,
   "id": "f16ae60a-0788-4076-b269-df7818476547",
   "metadata": {},
   "outputs": [
    {
     "name": "stdout",
     "output_type": "stream",
     "text": [
      "Accuracy of the network on the test images: 1 %\n"
     ]
    }
   ],
   "source": [
    "# Test the model\n",
    "correct = 0\n",
    "total = 0   \n",
    "with torch.no_grad():\n",
    "    for data in testDataloader:\n",
    "        images, labels = data[0].to(device), data[1].to(device)\n",
    "        outputs = model(images)\n",
    "        _, predicted = torch.max(outputs.data, 1)\n",
    "        total += labels.size(0)\n",
    "        correct += (predicted == labels).sum().item()\n",
    "\n",
    "print('Accuracy of the network on the test images: %d %%' % (100 * correct / total))\n"
   ]
  },
  {
   "cell_type": "code",
   "execution_count": null,
   "id": "1e7077df-a768-4e8a-907f-8762777a7258",
   "metadata": {},
   "outputs": [],
   "source": []
  }
 ],
 "metadata": {
  "kernelspec": {
   "display_name": "Python 3 (ipykernel)",
   "language": "python",
   "name": "python3"
  },
  "language_info": {
   "codemirror_mode": {
    "name": "ipython",
    "version": 3
   },
   "file_extension": ".py",
   "mimetype": "text/x-python",
   "name": "python",
   "nbconvert_exporter": "python",
   "pygments_lexer": "ipython3",
   "version": "3.11.7"
  }
 },
 "nbformat": 4,
 "nbformat_minor": 5
}
